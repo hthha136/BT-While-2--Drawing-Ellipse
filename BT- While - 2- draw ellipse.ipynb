{
 "cells": [
  {
   "cell_type": "code",
   "execution_count": null,
   "id": "71edf58c",
   "metadata": {},
   "outputs": [],
   "source": [
    "# import package\n",
    "import turtle\n",
    " \n",
    "# method to draw ellipse\n",
    "def draw(rad):\n",
    "     \n",
    "  # rad --> radius of arc\n",
    "  for i in range(2):\n",
    "     \n",
    "    # two arcs\n",
    "    turtle.circle(rad,90)\n",
    "    turtle.circle(rad/2,90)\n",
    " \n",
    "# Main section\n",
    "# tilt the shape to negative 45\n",
    "turtle.seth(-45)\n",
    " \n",
    "# calling draw method\n",
    "draw(70)"
   ]
  },
  {
   "cell_type": "code",
   "execution_count": null,
   "id": "06a87c43",
   "metadata": {},
   "outputs": [],
   "source": [
    "# Drawing a ellipse\n",
    "\n",
    "import turtle\n",
    "t = turtle.Turtle()\n",
    "t.speed(0)\n",
    "\n",
    "r = int(input(\"nhap r: \"))\n",
    "\n",
    "for i in range (2):\n",
    "    t.circle(r,90)\n",
    "    t.circle(r/2,90)"
   ]
  },
  {
   "cell_type": "code",
   "execution_count": null,
   "id": "a956bcff",
   "metadata": {},
   "outputs": [],
   "source": [
    "# Vẽ nhiều hình Ellipse lòng vào nhau\n",
    "\n",
    "import turtle\n",
    "\n",
    "t = turtle.Turtle()\n",
    "t.speed(0)\n",
    "\n",
    "# tạo list màu\n",
    "col=['violet','blue','green','yellow','orange','red']\n",
    "ind = 0\n",
    "\n",
    "a = int(input(\"nhap a: \"))\n",
    "r = int(input(\"nhap r: \"))\n",
    "\n",
    "for i in range(a):\n",
    "  for i in range (2):\n",
    "    t.circle(r,90)\n",
    "    t.circle(r/2,90)\n",
    "  t.left(360/a)\n",
    "  t.color(col[ind]) # gọi màu trong list\n",
    "  if ind == 5: # lệnh sau khi chạy xong liên tục 6 màu thì lặp lại\n",
    "    ind = 0\n",
    "  else:\n",
    "    ind +=1"
   ]
  }
 ],
 "metadata": {
  "kernelspec": {
   "display_name": "Python 3 (ipykernel)",
   "language": "python",
   "name": "python3"
  },
  "language_info": {
   "codemirror_mode": {
    "name": "ipython",
    "version": 3
   },
   "file_extension": ".py",
   "mimetype": "text/x-python",
   "name": "python",
   "nbconvert_exporter": "python",
   "pygments_lexer": "ipython3",
   "version": "3.10.4"
  }
 },
 "nbformat": 4,
 "nbformat_minor": 5
}
